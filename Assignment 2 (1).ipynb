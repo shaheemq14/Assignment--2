{
 "cells": [
  {
   "cell_type": "code",
   "execution_count": 10,
   "id": "d8cd336f-923b-4d2e-86f9-1173a1dac22c",
   "metadata": {},
   "outputs": [
    {
     "name": "stdin",
     "output_type": "stream",
     "text": [
      "Are you a student? Y or N Y\n"
     ]
    },
    {
     "name": "stdout",
     "output_type": "stream",
     "text": [
      "You are a Student\n"
     ]
    }
   ],
   "source": [
    "is_student = input(\"Are you a student? Y or N\")\n",
    "if is_student == \"Y\":\n",
    "    print(\"You are a Student\")\n",
    "else:\n",
    "    print(\"You are not a Student\")"
   ]
  }
 ],
 "metadata": {
  "kernelspec": {
   "display_name": "Python 3 (ipykernel)",
   "language": "python",
   "name": "python3"
  },
  "language_info": {
   "codemirror_mode": {
    "name": "ipython",
    "version": 3
   },
   "file_extension": ".py",
   "mimetype": "text/x-python",
   "name": "python",
   "nbconvert_exporter": "python",
   "pygments_lexer": "ipython3",
   "version": "3.10.8"
  }
 },
 "nbformat": 4,
 "nbformat_minor": 5
}
